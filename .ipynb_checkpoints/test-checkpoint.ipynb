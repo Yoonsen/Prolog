{
 "cells": [
  {
   "cell_type": "markdown",
   "id": "31ae81d8-7222-4710-8a34-dd589611f15b",
   "metadata": {},
   "source": [
    "# Prolog and Python"
   ]
  },
  {
   "cell_type": "code",
   "execution_count": 1,
   "id": "537e3fbf-e994-45e3-8475-8aa1e91c021b",
   "metadata": {},
   "outputs": [
    {
     "name": "stdout",
     "output_type": "stream",
     "text": [
      "wordcloud er ikke installert, kan ikke lage ordskyer\n"
     ]
    },
    {
     "data": {
      "text/html": [
       "<style>@import url(http://fonts.googleapis.com/css?family=Lato|Philosopher|Montserrat|Source+Code+Pro|Merriweather|Shippori+Mincho|Istok+Web|Philosopher|Assistant:200,400,700);\n",
       "\n",
       "p {\n",
       "    font-size:1.3em;\n",
       "    font-family:serif;\n",
       "    line-height:1.4em;\n",
       "    color:#142850;\n",
       "}\n",
       "h1, h2, h3, h4 {\n",
       "    color:#27496d;\n",
       "}\n",
       "\n",
       "/*\n",
       ".prompt, .jp-InputPrompt, .jp-InputArea-prompt, .jp-OutputPrompt, .jp-OutputArea-prompt {\n",
       "    visibility: hidden; \n",
       "}\n",
       "\n",
       "\n",
       ".jp-CodeCell .jp-Notebook-cell    {\n",
       "    margin-left:10%;\n",
       "    margin-right:5%;\n",
       "}\n",
       "\n",
       "\n",
       ".jp-InputArea, .jp-OutputArea {\n",
       "    margin-left:2.5em;\n",
       "    margin-right:2.5em;\n",
       "}\n",
       "*/\n",
       "\n",
       "\n",
       "body  {\n",
       "    margin:10%;\n",
       "    counter-reset: h1counter;\n",
       "\n",
       "}\n",
       "\n",
       "/* .jp-MarkdownOutput, .text_cell_render {\n",
       "\n",
       "    background-color:#FEFBF1;    \n",
       "    border-style: solid;\n",
       "    border-width: 1px;\n",
       "    border-color: rgba(0,0,0, 0.10);;\n",
       "} */\n",
       "\n",
       "\n",
       "h1:after {\n",
       "    content: \"\"; /* This is necessary for the pseudo element to work. */ \n",
       "    display: block; /* This will put the pseudo element on its own line. */\n",
       "    /*margin: 0 auto; This will center the border. */\n",
       "    width: 50%; /* Change this to whatever width you want. */\n",
       "    padding-top: 10px;\n",
       "    border-bottom:3px solid SlateGray; /* FireBrick; */\n",
       "}\n",
       "\n",
       "h2:after {\n",
       "    content: \"\"; /* This is necessary for the pseudo element to work. */ \n",
       "    display: block; /* This will put the pseudo element on its own line. */\n",
       "    /*margin: 0 auto; This will center the border. */\n",
       "    width: 30%; /* Change this to whatever width you want. */\n",
       "    padding-top: 10px;\n",
       "    border-bottom:2px solid SlateGray; /* FireBrick; */\n",
       "}\n",
       "\n",
       "</style>"
      ],
      "text/plain": [
       "<IPython.core.display.HTML object>"
      ]
     },
     "execution_count": 1,
     "metadata": {},
     "output_type": "execute_result"
    }
   ],
   "source": [
    "import dhlab as dh\n",
    "import pandas as pd\n",
    "import dhlab.module_update as mu\n",
    "mu.css()"
   ]
  },
  {
   "cell_type": "code",
   "execution_count": 2,
   "id": "eeb73a8f-c297-4c93-812e-b82ef1352933",
   "metadata": {},
   "outputs": [],
   "source": [
    "from pyswip import Prolog\n",
    "pro = Prolog()"
   ]
  },
  {
   "cell_type": "code",
   "execution_count": null,
   "id": "475c7e7d-cbbc-4d29-8650-06dcae698267",
   "metadata": {},
   "outputs": [],
   "source": []
  },
  {
   "cell_type": "code",
   "execution_count": 3,
   "id": "aa496797-bbbb-4e4c-818e-5cea2bff1656",
   "metadata": {},
   "outputs": [],
   "source": [
    "ndt = pd.read_csv(\"ndt_all_reduce.csv\", index_col = 0)"
   ]
  },
  {
   "cell_type": "code",
   "execution_count": 4,
   "id": "00fbcaad-a104-48ef-bcc6-82d1fe9529e3",
   "metadata": {},
   "outputs": [],
   "source": [
    "def get_sentence(ident):\n",
    "    d = ndt[ndt.sent_id == ident]\n",
    "    for i in d[\"token_order head\".split()].iterrows():\n",
    "        prolog.assertz(f\"dep({ident},{i[1][0]}, {i[1][1]})\")\n",
    "    return True "
   ]
  },
  {
   "cell_type": "code",
   "execution_count": 5,
   "id": "fd3ff0a6-18c3-4055-9b03-a91fa92e6ccc",
   "metadata": {},
   "outputs": [],
   "source": [
    "def dump_ndt_prolog():\n",
    "    for i in ndt.iterrows():\n",
    "        r = i[1]\n",
    "        pro.assertz(f\"ndt({r[0]},{r[1]},'{r[2]}','{r[3]}','{r[4]}','{r[5]}',{r[6]},'{r[7]}',{r[8]},{r[9]},'{r[10]}',{r[11]})\") "
   ]
  },
  {
   "cell_type": "code",
   "execution_count": 6,
   "id": "276000f6-2d2c-419c-a19a-62b743eaabed",
   "metadata": {},
   "outputs": [
    {
     "name": "stderr",
     "output_type": "stream",
     "text": [
      "ERROR: Syntax error: Operator expected\n",
      "ERROR: assertz((ndt(1,1,'Lam','lam','subst','appell|nøyt|ub|ent',0,'FRAG',1,1,'nb-NO',train)\n",
      "ERROR: ** here **\n",
      "ERROR: ). \n"
     ]
    },
    {
     "ename": "PrologError",
     "evalue": "Caused by: 'assertz((ndt(1,1,'Lam','lam','subst','appell|nøyt|ub|ent',0,'FRAG',1,1,'nb-NO',train)).'. Returned: 'error(syntax_error(operator_expected), string(b\"assertz((ndt(1,1,'Lam','lam','subst','appell|n\\xc3\\xb8yt|ub|ent',0,'FRAG',1,1,'nb-NO',train)). \", 85))'.",
     "output_type": "error",
     "traceback": [
      "\u001b[0;31m---------------------------------------------------------------------------\u001b[0m",
      "\u001b[0;31mPrologError\u001b[0m                               Traceback (most recent call last)",
      "\u001b[0;32m/tmp/ipykernel_3071605/1891531183.py\u001b[0m in \u001b[0;36m<module>\u001b[0;34m\u001b[0m\n\u001b[0;32m----> 1\u001b[0;31m \u001b[0mdump_ndt_prolog\u001b[0m\u001b[0;34m(\u001b[0m\u001b[0;34m)\u001b[0m\u001b[0;34m\u001b[0m\u001b[0;34m\u001b[0m\u001b[0m\n\u001b[0m",
      "\u001b[0;32m/tmp/ipykernel_3071605/3609199919.py\u001b[0m in \u001b[0;36mdump_ndt_prolog\u001b[0;34m()\u001b[0m\n\u001b[1;32m      2\u001b[0m     \u001b[0;32mfor\u001b[0m \u001b[0mi\u001b[0m \u001b[0;32min\u001b[0m \u001b[0mndt\u001b[0m\u001b[0;34m.\u001b[0m\u001b[0miterrows\u001b[0m\u001b[0;34m(\u001b[0m\u001b[0;34m)\u001b[0m\u001b[0;34m:\u001b[0m\u001b[0;34m\u001b[0m\u001b[0;34m\u001b[0m\u001b[0m\n\u001b[1;32m      3\u001b[0m         \u001b[0mr\u001b[0m \u001b[0;34m=\u001b[0m \u001b[0mi\u001b[0m\u001b[0;34m[\u001b[0m\u001b[0;36m1\u001b[0m\u001b[0;34m]\u001b[0m\u001b[0;34m\u001b[0m\u001b[0;34m\u001b[0m\u001b[0m\n\u001b[0;32m----> 4\u001b[0;31m         \u001b[0mpro\u001b[0m\u001b[0;34m.\u001b[0m\u001b[0massertz\u001b[0m\u001b[0;34m(\u001b[0m\u001b[0;34mf\"ndt({r[0]},{r[1]},'{r[2]}','{r[3]}','{r[4]}','{r[5]}',{r[6]},'{r[7]}',{r[8]},{r[9]},'{r[10]}',{r[11]}\"\u001b[0m\u001b[0;34m)\u001b[0m\u001b[0;34m\u001b[0m\u001b[0;34m\u001b[0m\u001b[0m\n\u001b[0m",
      "\u001b[0;32m~/anaconda3/lib/python3.9/site-packages/pyswip/prolog.py\u001b[0m in \u001b[0;36massertz\u001b[0;34m(cls, assertion, catcherrors)\u001b[0m\n\u001b[1;32m    150\u001b[0m     \u001b[0;34m@\u001b[0m\u001b[0mclassmethod\u001b[0m\u001b[0;34m\u001b[0m\u001b[0;34m\u001b[0m\u001b[0m\n\u001b[1;32m    151\u001b[0m     \u001b[0;32mdef\u001b[0m \u001b[0massertz\u001b[0m\u001b[0;34m(\u001b[0m\u001b[0mcls\u001b[0m\u001b[0;34m,\u001b[0m \u001b[0massertion\u001b[0m\u001b[0;34m,\u001b[0m \u001b[0mcatcherrors\u001b[0m\u001b[0;34m=\u001b[0m\u001b[0;32mFalse\u001b[0m\u001b[0;34m)\u001b[0m\u001b[0;34m:\u001b[0m\u001b[0;34m\u001b[0m\u001b[0;34m\u001b[0m\u001b[0m\n\u001b[0;32m--> 152\u001b[0;31m         \u001b[0mnext\u001b[0m\u001b[0;34m(\u001b[0m\u001b[0mcls\u001b[0m\u001b[0;34m.\u001b[0m\u001b[0mquery\u001b[0m\u001b[0;34m(\u001b[0m\u001b[0massertion\u001b[0m\u001b[0;34m.\u001b[0m\u001b[0mjoin\u001b[0m\u001b[0;34m(\u001b[0m\u001b[0;34m[\u001b[0m\u001b[0;34m\"assertz((\"\u001b[0m\u001b[0;34m,\u001b[0m \u001b[0;34m\")).\"\u001b[0m\u001b[0;34m]\u001b[0m\u001b[0;34m)\u001b[0m\u001b[0;34m,\u001b[0m \u001b[0mcatcherrors\u001b[0m\u001b[0;34m=\u001b[0m\u001b[0mcatcherrors\u001b[0m\u001b[0;34m)\u001b[0m\u001b[0;34m)\u001b[0m\u001b[0;34m\u001b[0m\u001b[0;34m\u001b[0m\u001b[0m\n\u001b[0m\u001b[1;32m    153\u001b[0m \u001b[0;34m\u001b[0m\u001b[0m\n\u001b[1;32m    154\u001b[0m     \u001b[0;34m@\u001b[0m\u001b[0mclassmethod\u001b[0m\u001b[0;34m\u001b[0m\u001b[0;34m\u001b[0m\u001b[0m\n",
      "\u001b[0;32m~/anaconda3/lib/python3.9/site-packages/pyswip/prolog.py\u001b[0m in \u001b[0;36m__call__\u001b[0;34m(self, query, maxresult, catcherrors, normalize)\u001b[0m\n\u001b[1;32m    126\u001b[0m                     \u001b[0mterm\u001b[0m \u001b[0;34m=\u001b[0m \u001b[0mgetTerm\u001b[0m\u001b[0;34m(\u001b[0m\u001b[0mPL_exception\u001b[0m\u001b[0;34m(\u001b[0m\u001b[0mswipl_qid\u001b[0m\u001b[0;34m)\u001b[0m\u001b[0;34m)\u001b[0m\u001b[0;34m\u001b[0m\u001b[0;34m\u001b[0m\u001b[0m\n\u001b[1;32m    127\u001b[0m \u001b[0;34m\u001b[0m\u001b[0m\n\u001b[0;32m--> 128\u001b[0;31m                     raise PrologError(\"\".join([\"Caused by: '\", query, \"'. \",\n\u001b[0m\u001b[1;32m    129\u001b[0m                                                \"Returned: '\", str(term), \"'.\"]))\n\u001b[1;32m    130\u001b[0m \u001b[0;34m\u001b[0m\u001b[0m\n",
      "\u001b[0;31mPrologError\u001b[0m: Caused by: 'assertz((ndt(1,1,'Lam','lam','subst','appell|nøyt|ub|ent',0,'FRAG',1,1,'nb-NO',train)).'. Returned: 'error(syntax_error(operator_expected), string(b\"assertz((ndt(1,1,'Lam','lam','subst','appell|n\\xc3\\xb8yt|ub|ent',0,'FRAG',1,1,'nb-NO',train)). \", 85))'."
     ]
    }
   ],
   "source": [
    "dump_ndt_prolog()\n"
   ]
  },
  {
   "cell_type": "code",
   "execution_count": 44,
   "id": "89fc0b65-9369-4421-98c8-b4526205192b",
   "metadata": {},
   "outputs": [
    {
     "data": {
      "text/plain": [
       "[{'S_ID': 100, 'Dep': 1, 'Head': 3},\n",
       " {'S_ID': 100, 'Dep': 2, 'Head': 3},\n",
       " {'S_ID': 100, 'Dep': 3, 'Head': 4},\n",
       " {'S_ID': 100, 'Dep': 4, 'Head': 0},\n",
       " {'S_ID': 100, 'Dep': 5, 'Head': 4},\n",
       " {'S_ID': 100, 'Dep': 6, 'Head': 9},\n",
       " {'S_ID': 100, 'Dep': 7, 'Head': 8},\n",
       " {'S_ID': 100, 'Dep': 8, 'Head': 9},\n",
       " {'S_ID': 100, 'Dep': 9, 'Head': 4},\n",
       " {'S_ID': 100, 'Dep': 10, 'Head': 9},\n",
       " {'S_ID': 100, 'Dep': 11, 'Head': 10},\n",
       " {'S_ID': 100, 'Dep': 12, 'Head': 10},\n",
       " {'S_ID': 100, 'Dep': 13, 'Head': 14},\n",
       " {'S_ID': 100, 'Dep': 14, 'Head': 12},\n",
       " {'S_ID': 100, 'Dep': 15, 'Head': 19},\n",
       " {'S_ID': 100, 'Dep': 16, 'Head': 19},\n",
       " {'S_ID': 100, 'Dep': 17, 'Head': 18},\n",
       " {'S_ID': 100, 'Dep': 18, 'Head': 16},\n",
       " {'S_ID': 100, 'Dep': 19, 'Head': 14},\n",
       " {'S_ID': 100, 'Dep': 20, 'Head': 21},\n",
       " {'S_ID': 100, 'Dep': 21, 'Head': 19},\n",
       " {'S_ID': 100, 'Dep': 22, 'Head': 4}]"
      ]
     },
     "execution_count": 44,
     "metadata": {},
     "output_type": "execute_result"
    }
   ],
   "source": [
    "[x for x in prolog.query(\"dep(S_ID, Dep, Head)\")]"
   ]
  },
  {
   "cell_type": "markdown",
   "id": "f490cf8d-a305-48a7-a093-e0568d6869cf",
   "metadata": {},
   "source": [
    "# Etabler et tonivå projeksjon. alle fraser henger under en\n",
    "\n",
    "Vi henter ut alle x og så alle y under x inkludert x selv"
   ]
  },
  {
   "cell_type": "code",
   "execution_count": 53,
   "id": "db281e65-5428-40b0-a806-86b578e3ef14",
   "metadata": {},
   "outputs": [],
   "source": [
    "prolog.consult(\"rules.pl\")"
   ]
  },
  {
   "cell_type": "code",
   "execution_count": 42,
   "id": "9543b516-e0cc-4e45-8862-b6b10e016d44",
   "metadata": {},
   "outputs": [],
   "source": [
    "T = prolog.query(\"projective(100, X)\")"
   ]
  },
  {
   "cell_type": "code",
   "execution_count": 43,
   "id": "01537480-9e31-400f-a8e6-7c6a4a9816b9",
   "metadata": {},
   "outputs": [
    {
     "name": "stdout",
     "output_type": "stream",
     "text": [
      "{'X': 'no'}\n"
     ]
    }
   ],
   "source": [
    "for x in T:\n",
    "    print(x)"
   ]
  },
  {
   "cell_type": "code",
   "execution_count": 58,
   "id": "48fc9290-748c-4f2b-a28b-2cffc5bc3cfa",
   "metadata": {},
   "outputs": [
    {
     "ename": "NestedQueryError",
     "evalue": "The last query was not closed",
     "output_type": "error",
     "traceback": [
      "\u001b[0;31m---------------------------------------------------------------------------\u001b[0m",
      "\u001b[0;31mNestedQueryError\u001b[0m                          Traceback (most recent call last)",
      "\u001b[0;32m/tmp/ipykernel_2862204/2251302940.py\u001b[0m in \u001b[0;36m<module>\u001b[0;34m\u001b[0m\n\u001b[0;32m----> 1\u001b[0;31m \u001b[0;34m[\u001b[0m\u001b[0mx\u001b[0m \u001b[0;32mfor\u001b[0m \u001b[0mx\u001b[0m \u001b[0;32min\u001b[0m \u001b[0mprolog\u001b[0m\u001b[0;34m.\u001b[0m\u001b[0mquery\u001b[0m\u001b[0;34m(\u001b[0m\u001b[0;34m\"deps(100, Z)\"\u001b[0m\u001b[0;34m)\u001b[0m\u001b[0;34m]\u001b[0m\u001b[0;34m\u001b[0m\u001b[0;34m\u001b[0m\u001b[0m\n\u001b[0m",
      "\u001b[0;32m~/anaconda3/lib/python3.9/site-packages/pyswip/prolog.py\u001b[0m in \u001b[0;36mquery\u001b[0;34m(cls, query, maxresult, catcherrors, normalize)\u001b[0m\n\u001b[1;32m    184\u001b[0m         \u001b[0;34m[\u001b[0m\u001b[0;34m{\u001b[0m\u001b[0;34m'X'\u001b[0m\u001b[0;34m:\u001b[0m \u001b[0;34m'gina'\u001b[0m\u001b[0;34m}\u001b[0m\u001b[0;34m,\u001b[0m \u001b[0;34m{\u001b[0m\u001b[0;34m'X'\u001b[0m\u001b[0;34m:\u001b[0m \u001b[0;34m'john'\u001b[0m\u001b[0;34m}\u001b[0m\u001b[0;34m]\u001b[0m\u001b[0;34m\u001b[0m\u001b[0;34m\u001b[0m\u001b[0m\n\u001b[1;32m    185\u001b[0m         \"\"\"\n\u001b[0;32m--> 186\u001b[0;31m         \u001b[0;32mreturn\u001b[0m \u001b[0mcls\u001b[0m\u001b[0;34m.\u001b[0m\u001b[0m_QueryWrapper\u001b[0m\u001b[0;34m(\u001b[0m\u001b[0;34m)\u001b[0m\u001b[0;34m(\u001b[0m\u001b[0mquery\u001b[0m\u001b[0;34m,\u001b[0m \u001b[0mmaxresult\u001b[0m\u001b[0;34m,\u001b[0m \u001b[0mcatcherrors\u001b[0m\u001b[0;34m,\u001b[0m \u001b[0mnormalize\u001b[0m\u001b[0;34m)\u001b[0m\u001b[0;34m\u001b[0m\u001b[0;34m\u001b[0m\u001b[0m\n\u001b[0m\u001b[1;32m    187\u001b[0m \u001b[0;34m\u001b[0m\u001b[0m\n\u001b[1;32m    188\u001b[0m \u001b[0;34m\u001b[0m\u001b[0m\n",
      "\u001b[0;32m~/anaconda3/lib/python3.9/site-packages/pyswip/prolog.py\u001b[0m in \u001b[0;36m__init__\u001b[0;34m(self)\u001b[0m\n\u001b[1;32m     86\u001b[0m         \u001b[0;32mdef\u001b[0m \u001b[0m__init__\u001b[0m\u001b[0;34m(\u001b[0m\u001b[0mself\u001b[0m\u001b[0;34m)\u001b[0m\u001b[0;34m:\u001b[0m\u001b[0;34m\u001b[0m\u001b[0;34m\u001b[0m\u001b[0m\n\u001b[1;32m     87\u001b[0m             \u001b[0;32mif\u001b[0m \u001b[0mProlog\u001b[0m\u001b[0;34m.\u001b[0m\u001b[0m_queryIsOpen\u001b[0m\u001b[0;34m:\u001b[0m\u001b[0;34m\u001b[0m\u001b[0;34m\u001b[0m\u001b[0m\n\u001b[0;32m---> 88\u001b[0;31m                 \u001b[0;32mraise\u001b[0m \u001b[0mNestedQueryError\u001b[0m\u001b[0;34m(\u001b[0m\u001b[0;34m\"The last query was not closed\"\u001b[0m\u001b[0;34m)\u001b[0m\u001b[0;34m\u001b[0m\u001b[0;34m\u001b[0m\u001b[0m\n\u001b[0m\u001b[1;32m     89\u001b[0m \u001b[0;34m\u001b[0m\u001b[0m\n\u001b[1;32m     90\u001b[0m         \u001b[0;32mdef\u001b[0m \u001b[0m__call__\u001b[0m\u001b[0;34m(\u001b[0m\u001b[0mself\u001b[0m\u001b[0;34m,\u001b[0m \u001b[0mquery\u001b[0m\u001b[0;34m,\u001b[0m \u001b[0mmaxresult\u001b[0m\u001b[0;34m,\u001b[0m \u001b[0mcatcherrors\u001b[0m\u001b[0;34m,\u001b[0m \u001b[0mnormalize\u001b[0m\u001b[0;34m)\u001b[0m\u001b[0;34m:\u001b[0m\u001b[0;34m\u001b[0m\u001b[0;34m\u001b[0m\u001b[0m\n",
      "\u001b[0;31mNestedQueryError\u001b[0m: The last query was not closed"
     ]
    }
   ],
   "source": [
    "[x for x in prolog.query(\"deps(100, Z)\")]"
   ]
  },
  {
   "cell_type": "code",
   "execution_count": null,
   "id": "92bcdd99-0228-4af2-8a7f-26f2380e0733",
   "metadata": {},
   "outputs": [],
   "source": []
  }
 ],
 "metadata": {
  "kernelspec": {
   "display_name": "Python 3 (ipykernel)",
   "language": "python",
   "name": "python3"
  },
  "language_info": {
   "codemirror_mode": {
    "name": "ipython",
    "version": 3
   },
   "file_extension": ".py",
   "mimetype": "text/x-python",
   "name": "python",
   "nbconvert_exporter": "python",
   "pygments_lexer": "ipython3",
   "version": "3.9.13"
  }
 },
 "nbformat": 4,
 "nbformat_minor": 5
}
